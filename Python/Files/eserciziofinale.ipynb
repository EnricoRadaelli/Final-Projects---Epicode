{
 "cells": [
  {
   "cell_type": "code",
   "execution_count": 269,
   "id": "2758f95b-f0bb-44ef-8ed1-b18cc947d8b1",
   "metadata": {},
   "outputs": [],
   "source": [
    "#Importo le librerie necessarie e carico i dati del file csv"
   ]
  },
  {
   "cell_type": "code",
   "execution_count": 270,
   "id": "658821f2-eb4b-40a4-99b5-a447deeb6e5a",
   "metadata": {},
   "outputs": [],
   "source": [
    "import pandas as pd\n",
    "import os\n",
    "import numpy as np\n",
    "import seaborn as sns"
   ]
  },
  {
   "cell_type": "code",
   "execution_count": 271,
   "id": "4cba7eff-fed8-45a3-ad7c-1bde34421cc6",
   "metadata": {},
   "outputs": [],
   "source": [
    "file_name = \"owid-covid-data.csv\"\n",
    "folder_name = \"data\"\n",
    "percorso = os.getcwd()\n",
    "df = pd.read_csv(os.path.join(percorso,folder_name,file_name))"
   ]
  },
  {
   "cell_type": "code",
   "execution_count": 272,
   "id": "d3f96e37-a762-430b-9666-7c2ace6cea64",
   "metadata": {},
   "outputs": [],
   "source": [
    "#Verifico le dimensioni del dataset e i relativi metadati"
   ]
  },
  {
   "cell_type": "code",
   "execution_count": 273,
   "id": "5fc231c5-4dd8-4204-94ad-6f390aa83111",
   "metadata": {},
   "outputs": [
    {
     "data": {
      "text/plain": [
       "(387249, 67)"
      ]
     },
     "execution_count": 273,
     "metadata": {},
     "output_type": "execute_result"
    }
   ],
   "source": [
    "df.shape"
   ]
  },
  {
   "cell_type": "code",
   "execution_count": 274,
   "id": "610244f7-d572-4f91-9bcb-cb237ae491d2",
   "metadata": {},
   "outputs": [
    {
     "name": "stdout",
     "output_type": "stream",
     "text": [
      "<class 'pandas.core.frame.DataFrame'>\n",
      "RangeIndex: 387249 entries, 0 to 387248\n",
      "Data columns (total 67 columns):\n",
      " #   Column                                      Non-Null Count   Dtype  \n",
      "---  ------                                      --------------   -----  \n",
      " 0   iso_code                                    387249 non-null  object \n",
      " 1   continent                                   368722 non-null  object \n",
      " 2   location                                    387249 non-null  object \n",
      " 3   date                                        387249 non-null  object \n",
      " 4   total_cases                                 348333 non-null  float64\n",
      " 5   new_cases                                   376280 non-null  float64\n",
      " 6   new_cases_smoothed                          375050 non-null  float64\n",
      " 7   total_deaths                                326109 non-null  float64\n",
      " 8   new_deaths                                  376589 non-null  float64\n",
      " 9   new_deaths_smoothed                         375359 non-null  float64\n",
      " 10  total_cases_per_million                     348333 non-null  float64\n",
      " 11  new_cases_per_million                       376280 non-null  float64\n",
      " 12  new_cases_smoothed_per_million              375050 non-null  float64\n",
      " 13  total_deaths_per_million                    326109 non-null  float64\n",
      " 14  new_deaths_per_million                      376589 non-null  float64\n",
      " 15  new_deaths_smoothed_per_million             375359 non-null  float64\n",
      " 16  reproduction_rate                           184817 non-null  float64\n",
      " 17  icu_patients                                38642 non-null   float64\n",
      " 18  icu_patients_per_million                    38642 non-null   float64\n",
      " 19  hosp_patients                               40174 non-null   float64\n",
      " 20  hosp_patients_per_million                   40174 non-null   float64\n",
      " 21  weekly_icu_admissions                       10689 non-null   float64\n",
      " 22  weekly_icu_admissions_per_million           10689 non-null   float64\n",
      " 23  weekly_hosp_admissions                      24159 non-null   float64\n",
      " 24  weekly_hosp_admissions_per_million          24159 non-null   float64\n",
      " 25  total_tests                                 79387 non-null   float64\n",
      " 26  new_tests                                   75403 non-null   float64\n",
      " 27  total_tests_per_thousand                    79387 non-null   float64\n",
      " 28  new_tests_per_thousand                      75403 non-null   float64\n",
      " 29  new_tests_smoothed                          103965 non-null  float64\n",
      " 30  new_tests_smoothed_per_thousand             103965 non-null  float64\n",
      " 31  positive_rate                               95927 non-null   float64\n",
      " 32  tests_per_case                              94348 non-null   float64\n",
      " 33  tests_units                                 106788 non-null  object \n",
      " 34  total_vaccinations                          83316 non-null   float64\n",
      " 35  people_vaccinated                           79196 non-null   float64\n",
      " 36  people_fully_vaccinated                     76078 non-null   float64\n",
      " 37  total_boosters                              51503 non-null   float64\n",
      " 38  new_vaccinations                            69060 non-null   float64\n",
      " 39  new_vaccinations_smoothed                   190037 non-null  float64\n",
      " 40  total_vaccinations_per_hundred              83316 non-null   float64\n",
      " 41  people_vaccinated_per_hundred               79196 non-null   float64\n",
      " 42  people_fully_vaccinated_per_hundred         76078 non-null   float64\n",
      " 43  total_boosters_per_hundred                  51503 non-null   float64\n",
      " 44  new_vaccinations_smoothed_per_million       190037 non-null  float64\n",
      " 45  new_people_vaccinated_smoothed              187406 non-null  float64\n",
      " 46  new_people_vaccinated_smoothed_per_hundred  187406 non-null  float64\n",
      " 47  stringency_index                            197292 non-null  float64\n",
      " 48  population_density                          329249 non-null  float64\n",
      " 49  median_age                                  306054 non-null  float64\n",
      " 50  aged_65_older                               295501 non-null  float64\n",
      " 51  aged_70_older                               302986 non-null  float64\n",
      " 52  gdp_per_capita                              300091 non-null  float64\n",
      " 53  extreme_poverty                             193440 non-null  float64\n",
      " 54  cardiovasc_death_rate                       300677 non-null  float64\n",
      " 55  diabetes_prevalence                         316182 non-null  float64\n",
      " 56  female_smokers                              225697 non-null  float64\n",
      " 57  male_smokers                                222629 non-null  float64\n",
      " 58  handwashing_facilities                      147326 non-null  float64\n",
      " 59  hospital_beds_per_thousand                  265581 non-null  float64\n",
      " 60  life_expectancy                             356676 non-null  float64\n",
      " 61  human_development_index                     291638 non-null  float64\n",
      " 62  population                                  387249 non-null  float64\n",
      " 63  excess_mortality_cumulative_absolute        13172 non-null   float64\n",
      " 64  excess_mortality_cumulative                 13172 non-null   float64\n",
      " 65  excess_mortality                            13172 non-null   float64\n",
      " 66  excess_mortality_cumulative_per_million     13172 non-null   float64\n",
      "dtypes: float64(62), object(5)\n",
      "memory usage: 197.9+ MB\n"
     ]
    }
   ],
   "source": [
    "df.info()"
   ]
  },
  {
   "cell_type": "code",
   "execution_count": 275,
   "id": "28fd6a20-4341-4db0-80c6-4c1575d6552e",
   "metadata": {},
   "outputs": [
    {
     "data": {
      "text/plain": [
       "Index(['iso_code', 'continent', 'location', 'date', 'total_cases', 'new_cases',\n",
       "       'new_cases_smoothed', 'total_deaths', 'new_deaths',\n",
       "       'new_deaths_smoothed', 'total_cases_per_million',\n",
       "       'new_cases_per_million', 'new_cases_smoothed_per_million',\n",
       "       'total_deaths_per_million', 'new_deaths_per_million',\n",
       "       'new_deaths_smoothed_per_million', 'reproduction_rate', 'icu_patients',\n",
       "       'icu_patients_per_million', 'hosp_patients',\n",
       "       'hosp_patients_per_million', 'weekly_icu_admissions',\n",
       "       'weekly_icu_admissions_per_million', 'weekly_hosp_admissions',\n",
       "       'weekly_hosp_admissions_per_million', 'total_tests', 'new_tests',\n",
       "       'total_tests_per_thousand', 'new_tests_per_thousand',\n",
       "       'new_tests_smoothed', 'new_tests_smoothed_per_thousand',\n",
       "       'positive_rate', 'tests_per_case', 'tests_units', 'total_vaccinations',\n",
       "       'people_vaccinated', 'people_fully_vaccinated', 'total_boosters',\n",
       "       'new_vaccinations', 'new_vaccinations_smoothed',\n",
       "       'total_vaccinations_per_hundred', 'people_vaccinated_per_hundred',\n",
       "       'people_fully_vaccinated_per_hundred', 'total_boosters_per_hundred',\n",
       "       'new_vaccinations_smoothed_per_million',\n",
       "       'new_people_vaccinated_smoothed',\n",
       "       'new_people_vaccinated_smoothed_per_hundred', 'stringency_index',\n",
       "       'population_density', 'median_age', 'aged_65_older', 'aged_70_older',\n",
       "       'gdp_per_capita', 'extreme_poverty', 'cardiovasc_death_rate',\n",
       "       'diabetes_prevalence', 'female_smokers', 'male_smokers',\n",
       "       'handwashing_facilities', 'hospital_beds_per_thousand',\n",
       "       'life_expectancy', 'human_development_index', 'population',\n",
       "       'excess_mortality_cumulative_absolute', 'excess_mortality_cumulative',\n",
       "       'excess_mortality', 'excess_mortality_cumulative_per_million'],\n",
       "      dtype='object')"
      ]
     },
     "execution_count": 275,
     "metadata": {},
     "output_type": "execute_result"
    }
   ],
   "source": [
    "df.columns"
   ]
  },
  {
   "cell_type": "code",
   "execution_count": 276,
   "id": "7559ea4c-dc0e-4be1-b76d-a9f2fe826217",
   "metadata": {},
   "outputs": [
    {
     "data": {
      "text/html": [
       "<div>\n",
       "<style scoped>\n",
       "    .dataframe tbody tr th:only-of-type {\n",
       "        vertical-align: middle;\n",
       "    }\n",
       "\n",
       "    .dataframe tbody tr th {\n",
       "        vertical-align: top;\n",
       "    }\n",
       "\n",
       "    .dataframe thead th {\n",
       "        text-align: right;\n",
       "    }\n",
       "</style>\n",
       "<table border=\"1\" class=\"dataframe\">\n",
       "  <thead>\n",
       "    <tr style=\"text-align: right;\">\n",
       "      <th></th>\n",
       "      <th>total_cases</th>\n",
       "      <th>new_cases</th>\n",
       "      <th>new_cases_smoothed</th>\n",
       "      <th>total_deaths</th>\n",
       "      <th>new_deaths</th>\n",
       "      <th>new_deaths_smoothed</th>\n",
       "      <th>total_cases_per_million</th>\n",
       "      <th>new_cases_per_million</th>\n",
       "      <th>new_cases_smoothed_per_million</th>\n",
       "      <th>total_deaths_per_million</th>\n",
       "      <th>...</th>\n",
       "      <th>male_smokers</th>\n",
       "      <th>handwashing_facilities</th>\n",
       "      <th>hospital_beds_per_thousand</th>\n",
       "      <th>life_expectancy</th>\n",
       "      <th>human_development_index</th>\n",
       "      <th>population</th>\n",
       "      <th>excess_mortality_cumulative_absolute</th>\n",
       "      <th>excess_mortality_cumulative</th>\n",
       "      <th>excess_mortality</th>\n",
       "      <th>excess_mortality_cumulative_per_million</th>\n",
       "    </tr>\n",
       "  </thead>\n",
       "  <tbody>\n",
       "    <tr>\n",
       "      <th>count</th>\n",
       "      <td>3.483330e+05</td>\n",
       "      <td>3.762800e+05</td>\n",
       "      <td>3.750500e+05</td>\n",
       "      <td>3.261090e+05</td>\n",
       "      <td>376589.000000</td>\n",
       "      <td>375359.000000</td>\n",
       "      <td>348333.000000</td>\n",
       "      <td>376280.000000</td>\n",
       "      <td>375050.000000</td>\n",
       "      <td>326109.000000</td>\n",
       "      <td>...</td>\n",
       "      <td>222629.000000</td>\n",
       "      <td>147326.000000</td>\n",
       "      <td>265581.000000</td>\n",
       "      <td>356676.000000</td>\n",
       "      <td>291638.000000</td>\n",
       "      <td>3.872490e+05</td>\n",
       "      <td>1.317200e+04</td>\n",
       "      <td>13172.000000</td>\n",
       "      <td>13172.000000</td>\n",
       "      <td>13172.000000</td>\n",
       "    </tr>\n",
       "    <tr>\n",
       "      <th>mean</th>\n",
       "      <td>7.386532e+06</td>\n",
       "      <td>8.728781e+03</td>\n",
       "      <td>8.756916e+03</td>\n",
       "      <td>8.996469e+04</td>\n",
       "      <td>78.157939</td>\n",
       "      <td>78.405166</td>\n",
       "      <td>112347.967657</td>\n",
       "      <td>132.572340</td>\n",
       "      <td>133.002194</td>\n",
       "      <td>918.307054</td>\n",
       "      <td>...</td>\n",
       "      <td>32.911798</td>\n",
       "      <td>50.793139</td>\n",
       "      <td>3.097483</td>\n",
       "      <td>73.711684</td>\n",
       "      <td>0.722556</td>\n",
       "      <td>1.291645e+08</td>\n",
       "      <td>5.571563e+04</td>\n",
       "      <td>9.763578</td>\n",
       "      <td>10.992424</td>\n",
       "      <td>1772.580448</td>\n",
       "    </tr>\n",
       "    <tr>\n",
       "      <th>std</th>\n",
       "      <td>4.398509e+07</td>\n",
       "      <td>2.397048e+05</td>\n",
       "      <td>9.038526e+04</td>\n",
       "      <td>4.566992e+05</td>\n",
       "      <td>1424.517554</td>\n",
       "      <td>534.387547</td>\n",
       "      <td>160036.519608</td>\n",
       "      <td>1544.311765</td>\n",
       "      <td>571.529927</td>\n",
       "      <td>1131.569486</td>\n",
       "      <td>...</td>\n",
       "      <td>13.572945</td>\n",
       "      <td>31.953406</td>\n",
       "      <td>2.548284</td>\n",
       "      <td>7.394931</td>\n",
       "      <td>0.148995</td>\n",
       "      <td>6.630685e+08</td>\n",
       "      <td>1.556166e+05</td>\n",
       "      <td>12.025551</td>\n",
       "      <td>24.595139</td>\n",
       "      <td>1987.607815</td>\n",
       "    </tr>\n",
       "    <tr>\n",
       "      <th>min</th>\n",
       "      <td>1.000000e+00</td>\n",
       "      <td>0.000000e+00</td>\n",
       "      <td>0.000000e+00</td>\n",
       "      <td>1.000000e+00</td>\n",
       "      <td>0.000000</td>\n",
       "      <td>0.000000</td>\n",
       "      <td>0.000000</td>\n",
       "      <td>0.000000</td>\n",
       "      <td>0.000000</td>\n",
       "      <td>0.000000</td>\n",
       "      <td>...</td>\n",
       "      <td>7.700000</td>\n",
       "      <td>1.188000</td>\n",
       "      <td>0.100000</td>\n",
       "      <td>53.280000</td>\n",
       "      <td>0.394000</td>\n",
       "      <td>4.700000e+01</td>\n",
       "      <td>-3.772610e+04</td>\n",
       "      <td>-44.230000</td>\n",
       "      <td>-95.920000</td>\n",
       "      <td>-2936.453100</td>\n",
       "    </tr>\n",
       "    <tr>\n",
       "      <th>25%</th>\n",
       "      <td>9.448000e+03</td>\n",
       "      <td>0.000000e+00</td>\n",
       "      <td>0.000000e+00</td>\n",
       "      <td>1.360000e+02</td>\n",
       "      <td>0.000000</td>\n",
       "      <td>0.000000</td>\n",
       "      <td>2954.509000</td>\n",
       "      <td>0.000000</td>\n",
       "      <td>0.000000</td>\n",
       "      <td>65.307000</td>\n",
       "      <td>...</td>\n",
       "      <td>22.600000</td>\n",
       "      <td>20.859000</td>\n",
       "      <td>1.300000</td>\n",
       "      <td>69.590000</td>\n",
       "      <td>0.602000</td>\n",
       "      <td>4.490020e+05</td>\n",
       "      <td>1.768998e+02</td>\n",
       "      <td>2.057500</td>\n",
       "      <td>-1.490000</td>\n",
       "      <td>119.531875</td>\n",
       "    </tr>\n",
       "    <tr>\n",
       "      <th>50%</th>\n",
       "      <td>7.971300e+04</td>\n",
       "      <td>0.000000e+00</td>\n",
       "      <td>1.700000e+01</td>\n",
       "      <td>1.393000e+03</td>\n",
       "      <td>0.000000</td>\n",
       "      <td>0.143000</td>\n",
       "      <td>32240.542000</td>\n",
       "      <td>0.000000</td>\n",
       "      <td>4.197000</td>\n",
       "      <td>414.035000</td>\n",
       "      <td>...</td>\n",
       "      <td>33.100000</td>\n",
       "      <td>49.839000</td>\n",
       "      <td>2.500000</td>\n",
       "      <td>75.050000</td>\n",
       "      <td>0.740000</td>\n",
       "      <td>5.882259e+06</td>\n",
       "      <td>6.669150e+03</td>\n",
       "      <td>8.150000</td>\n",
       "      <td>5.660000</td>\n",
       "      <td>1245.880250</td>\n",
       "    </tr>\n",
       "    <tr>\n",
       "      <th>75%</th>\n",
       "      <td>8.516680e+05</td>\n",
       "      <td>0.000000e+00</td>\n",
       "      <td>4.024290e+02</td>\n",
       "      <td>1.257300e+04</td>\n",
       "      <td>0.000000</td>\n",
       "      <td>4.000000</td>\n",
       "      <td>155233.877000</td>\n",
       "      <td>0.000000</td>\n",
       "      <td>68.598000</td>\n",
       "      <td>1453.121000</td>\n",
       "      <td>...</td>\n",
       "      <td>41.300000</td>\n",
       "      <td>83.241000</td>\n",
       "      <td>4.200000</td>\n",
       "      <td>79.460000</td>\n",
       "      <td>0.829000</td>\n",
       "      <td>2.830170e+07</td>\n",
       "      <td>3.879063e+04</td>\n",
       "      <td>15.040000</td>\n",
       "      <td>15.710000</td>\n",
       "      <td>2872.872875</td>\n",
       "    </tr>\n",
       "    <tr>\n",
       "      <th>max</th>\n",
       "      <td>7.749544e+08</td>\n",
       "      <td>4.423623e+07</td>\n",
       "      <td>6.319461e+06</td>\n",
       "      <td>7.040264e+06</td>\n",
       "      <td>103719.000000</td>\n",
       "      <td>14817.000000</td>\n",
       "      <td>765370.756000</td>\n",
       "      <td>240325.866000</td>\n",
       "      <td>34332.267000</td>\n",
       "      <td>6485.570000</td>\n",
       "      <td>...</td>\n",
       "      <td>78.100000</td>\n",
       "      <td>100.000000</td>\n",
       "      <td>13.800000</td>\n",
       "      <td>86.750000</td>\n",
       "      <td>0.957000</td>\n",
       "      <td>7.975105e+09</td>\n",
       "      <td>1.327828e+06</td>\n",
       "      <td>78.080000</td>\n",
       "      <td>377.700000</td>\n",
       "      <td>10293.515000</td>\n",
       "    </tr>\n",
       "  </tbody>\n",
       "</table>\n",
       "<p>8 rows × 62 columns</p>\n",
       "</div>"
      ],
      "text/plain": [
       "        total_cases     new_cases  new_cases_smoothed  total_deaths  \\\n",
       "count  3.483330e+05  3.762800e+05        3.750500e+05  3.261090e+05   \n",
       "mean   7.386532e+06  8.728781e+03        8.756916e+03  8.996469e+04   \n",
       "std    4.398509e+07  2.397048e+05        9.038526e+04  4.566992e+05   \n",
       "min    1.000000e+00  0.000000e+00        0.000000e+00  1.000000e+00   \n",
       "25%    9.448000e+03  0.000000e+00        0.000000e+00  1.360000e+02   \n",
       "50%    7.971300e+04  0.000000e+00        1.700000e+01  1.393000e+03   \n",
       "75%    8.516680e+05  0.000000e+00        4.024290e+02  1.257300e+04   \n",
       "max    7.749544e+08  4.423623e+07        6.319461e+06  7.040264e+06   \n",
       "\n",
       "          new_deaths  new_deaths_smoothed  total_cases_per_million  \\\n",
       "count  376589.000000        375359.000000            348333.000000   \n",
       "mean       78.157939            78.405166            112347.967657   \n",
       "std      1424.517554           534.387547            160036.519608   \n",
       "min         0.000000             0.000000                 0.000000   \n",
       "25%         0.000000             0.000000              2954.509000   \n",
       "50%         0.000000             0.143000             32240.542000   \n",
       "75%         0.000000             4.000000            155233.877000   \n",
       "max    103719.000000         14817.000000            765370.756000   \n",
       "\n",
       "       new_cases_per_million  new_cases_smoothed_per_million  \\\n",
       "count          376280.000000                   375050.000000   \n",
       "mean              132.572340                      133.002194   \n",
       "std              1544.311765                      571.529927   \n",
       "min                 0.000000                        0.000000   \n",
       "25%                 0.000000                        0.000000   \n",
       "50%                 0.000000                        4.197000   \n",
       "75%                 0.000000                       68.598000   \n",
       "max            240325.866000                    34332.267000   \n",
       "\n",
       "       total_deaths_per_million  ...   male_smokers  handwashing_facilities  \\\n",
       "count             326109.000000  ...  222629.000000           147326.000000   \n",
       "mean                 918.307054  ...      32.911798               50.793139   \n",
       "std                 1131.569486  ...      13.572945               31.953406   \n",
       "min                    0.000000  ...       7.700000                1.188000   \n",
       "25%                   65.307000  ...      22.600000               20.859000   \n",
       "50%                  414.035000  ...      33.100000               49.839000   \n",
       "75%                 1453.121000  ...      41.300000               83.241000   \n",
       "max                 6485.570000  ...      78.100000              100.000000   \n",
       "\n",
       "       hospital_beds_per_thousand  life_expectancy  human_development_index  \\\n",
       "count               265581.000000    356676.000000            291638.000000   \n",
       "mean                     3.097483        73.711684                 0.722556   \n",
       "std                      2.548284         7.394931                 0.148995   \n",
       "min                      0.100000        53.280000                 0.394000   \n",
       "25%                      1.300000        69.590000                 0.602000   \n",
       "50%                      2.500000        75.050000                 0.740000   \n",
       "75%                      4.200000        79.460000                 0.829000   \n",
       "max                     13.800000        86.750000                 0.957000   \n",
       "\n",
       "         population  excess_mortality_cumulative_absolute  \\\n",
       "count  3.872490e+05                          1.317200e+04   \n",
       "mean   1.291645e+08                          5.571563e+04   \n",
       "std    6.630685e+08                          1.556166e+05   \n",
       "min    4.700000e+01                         -3.772610e+04   \n",
       "25%    4.490020e+05                          1.768998e+02   \n",
       "50%    5.882259e+06                          6.669150e+03   \n",
       "75%    2.830170e+07                          3.879063e+04   \n",
       "max    7.975105e+09                          1.327828e+06   \n",
       "\n",
       "       excess_mortality_cumulative  excess_mortality  \\\n",
       "count                 13172.000000      13172.000000   \n",
       "mean                      9.763578         10.992424   \n",
       "std                      12.025551         24.595139   \n",
       "min                     -44.230000        -95.920000   \n",
       "25%                       2.057500         -1.490000   \n",
       "50%                       8.150000          5.660000   \n",
       "75%                      15.040000         15.710000   \n",
       "max                      78.080000        377.700000   \n",
       "\n",
       "       excess_mortality_cumulative_per_million  \n",
       "count                             13172.000000  \n",
       "mean                               1772.580448  \n",
       "std                                1987.607815  \n",
       "min                               -2936.453100  \n",
       "25%                                 119.531875  \n",
       "50%                                1245.880250  \n",
       "75%                                2872.872875  \n",
       "max                               10293.515000  \n",
       "\n",
       "[8 rows x 62 columns]"
      ]
     },
     "execution_count": 276,
     "metadata": {},
     "output_type": "execute_result"
    }
   ],
   "source": [
    "df.describe()"
   ]
  },
  {
   "cell_type": "code",
   "execution_count": 277,
   "id": "60e4807c-d865-4953-8689-a5975cc4d265",
   "metadata": {},
   "outputs": [
    {
     "data": {
      "text/html": [
       "<div>\n",
       "<style scoped>\n",
       "    .dataframe tbody tr th:only-of-type {\n",
       "        vertical-align: middle;\n",
       "    }\n",
       "\n",
       "    .dataframe tbody tr th {\n",
       "        vertical-align: top;\n",
       "    }\n",
       "\n",
       "    .dataframe thead th {\n",
       "        text-align: right;\n",
       "    }\n",
       "</style>\n",
       "<table border=\"1\" class=\"dataframe\">\n",
       "  <thead>\n",
       "    <tr style=\"text-align: right;\">\n",
       "      <th></th>\n",
       "      <th>iso_code</th>\n",
       "      <th>continent</th>\n",
       "      <th>location</th>\n",
       "      <th>date</th>\n",
       "      <th>total_cases</th>\n",
       "      <th>new_cases</th>\n",
       "      <th>new_cases_smoothed</th>\n",
       "      <th>total_deaths</th>\n",
       "      <th>new_deaths</th>\n",
       "      <th>new_deaths_smoothed</th>\n",
       "      <th>...</th>\n",
       "      <th>male_smokers</th>\n",
       "      <th>handwashing_facilities</th>\n",
       "      <th>hospital_beds_per_thousand</th>\n",
       "      <th>life_expectancy</th>\n",
       "      <th>human_development_index</th>\n",
       "      <th>population</th>\n",
       "      <th>excess_mortality_cumulative_absolute</th>\n",
       "      <th>excess_mortality_cumulative</th>\n",
       "      <th>excess_mortality</th>\n",
       "      <th>excess_mortality_cumulative_per_million</th>\n",
       "    </tr>\n",
       "  </thead>\n",
       "  <tbody>\n",
       "    <tr>\n",
       "      <th>5658</th>\n",
       "      <td>DZA</td>\n",
       "      <td>Africa</td>\n",
       "      <td>Algeria</td>\n",
       "      <td>2022-11-26</td>\n",
       "      <td>270952.0</td>\n",
       "      <td>0.0</td>\n",
       "      <td>10.143</td>\n",
       "      <td>6881.0</td>\n",
       "      <td>0.0</td>\n",
       "      <td>0.000</td>\n",
       "      <td>...</td>\n",
       "      <td>30.4</td>\n",
       "      <td>83.741</td>\n",
       "      <td>1.900</td>\n",
       "      <td>76.88</td>\n",
       "      <td>0.748</td>\n",
       "      <td>44903228.0</td>\n",
       "      <td>NaN</td>\n",
       "      <td>NaN</td>\n",
       "      <td>NaN</td>\n",
       "      <td>NaN</td>\n",
       "    </tr>\n",
       "    <tr>\n",
       "      <th>178650</th>\n",
       "      <td>OWID_KOS</td>\n",
       "      <td>Europe</td>\n",
       "      <td>Kosovo</td>\n",
       "      <td>2021-12-29</td>\n",
       "      <td>161284.0</td>\n",
       "      <td>0.0</td>\n",
       "      <td>9.857</td>\n",
       "      <td>2979.0</td>\n",
       "      <td>0.0</td>\n",
       "      <td>0.000</td>\n",
       "      <td>...</td>\n",
       "      <td>NaN</td>\n",
       "      <td>NaN</td>\n",
       "      <td>NaN</td>\n",
       "      <td>NaN</td>\n",
       "      <td>NaN</td>\n",
       "      <td>1782115.0</td>\n",
       "      <td>NaN</td>\n",
       "      <td>NaN</td>\n",
       "      <td>NaN</td>\n",
       "      <td>NaN</td>\n",
       "    </tr>\n",
       "    <tr>\n",
       "      <th>307076</th>\n",
       "      <td>SRB</td>\n",
       "      <td>Europe</td>\n",
       "      <td>Serbia</td>\n",
       "      <td>2021-10-20</td>\n",
       "      <td>1043758.0</td>\n",
       "      <td>0.0</td>\n",
       "      <td>6199.000</td>\n",
       "      <td>9052.0</td>\n",
       "      <td>0.0</td>\n",
       "      <td>52.714</td>\n",
       "      <td>...</td>\n",
       "      <td>40.2</td>\n",
       "      <td>97.719</td>\n",
       "      <td>5.609</td>\n",
       "      <td>76.00</td>\n",
       "      <td>0.806</td>\n",
       "      <td>6871547.0</td>\n",
       "      <td>NaN</td>\n",
       "      <td>NaN</td>\n",
       "      <td>NaN</td>\n",
       "      <td>NaN</td>\n",
       "    </tr>\n",
       "    <tr>\n",
       "      <th>25856</th>\n",
       "      <td>BHS</td>\n",
       "      <td>North America</td>\n",
       "      <td>Bahamas</td>\n",
       "      <td>2023-07-21</td>\n",
       "      <td>38084.0</td>\n",
       "      <td>0.0</td>\n",
       "      <td>0.000</td>\n",
       "      <td>844.0</td>\n",
       "      <td>0.0</td>\n",
       "      <td>0.000</td>\n",
       "      <td>...</td>\n",
       "      <td>20.4</td>\n",
       "      <td>NaN</td>\n",
       "      <td>2.900</td>\n",
       "      <td>73.92</td>\n",
       "      <td>0.814</td>\n",
       "      <td>409989.0</td>\n",
       "      <td>NaN</td>\n",
       "      <td>NaN</td>\n",
       "      <td>NaN</td>\n",
       "      <td>NaN</td>\n",
       "    </tr>\n",
       "    <tr>\n",
       "      <th>79710</th>\n",
       "      <td>HRV</td>\n",
       "      <td>Europe</td>\n",
       "      <td>Croatia</td>\n",
       "      <td>2023-11-22</td>\n",
       "      <td>1282425.0</td>\n",
       "      <td>0.0</td>\n",
       "      <td>362.143</td>\n",
       "      <td>18470.0</td>\n",
       "      <td>0.0</td>\n",
       "      <td>3.429</td>\n",
       "      <td>...</td>\n",
       "      <td>39.9</td>\n",
       "      <td>NaN</td>\n",
       "      <td>5.540</td>\n",
       "      <td>78.49</td>\n",
       "      <td>0.851</td>\n",
       "      <td>4030361.0</td>\n",
       "      <td>NaN</td>\n",
       "      <td>NaN</td>\n",
       "      <td>NaN</td>\n",
       "      <td>NaN</td>\n",
       "    </tr>\n",
       "    <tr>\n",
       "      <th>206598</th>\n",
       "      <td>MLI</td>\n",
       "      <td>Africa</td>\n",
       "      <td>Mali</td>\n",
       "      <td>2020-08-15</td>\n",
       "      <td>2450.0</td>\n",
       "      <td>0.0</td>\n",
       "      <td>4.286</td>\n",
       "      <td>125.0</td>\n",
       "      <td>0.0</td>\n",
       "      <td>0.143</td>\n",
       "      <td>...</td>\n",
       "      <td>23.0</td>\n",
       "      <td>52.232</td>\n",
       "      <td>0.100</td>\n",
       "      <td>59.31</td>\n",
       "      <td>0.434</td>\n",
       "      <td>22593598.0</td>\n",
       "      <td>NaN</td>\n",
       "      <td>NaN</td>\n",
       "      <td>NaN</td>\n",
       "      <td>NaN</td>\n",
       "    </tr>\n",
       "    <tr>\n",
       "      <th>313891</th>\n",
       "      <td>SXM</td>\n",
       "      <td>North America</td>\n",
       "      <td>Sint Maarten (Dutch part)</td>\n",
       "      <td>2023-08-30</td>\n",
       "      <td>11051.0</td>\n",
       "      <td>0.0</td>\n",
       "      <td>0.000</td>\n",
       "      <td>92.0</td>\n",
       "      <td>0.0</td>\n",
       "      <td>0.000</td>\n",
       "      <td>...</td>\n",
       "      <td>NaN</td>\n",
       "      <td>NaN</td>\n",
       "      <td>NaN</td>\n",
       "      <td>78.95</td>\n",
       "      <td>NaN</td>\n",
       "      <td>44192.0</td>\n",
       "      <td>NaN</td>\n",
       "      <td>NaN</td>\n",
       "      <td>NaN</td>\n",
       "      <td>NaN</td>\n",
       "    </tr>\n",
       "    <tr>\n",
       "      <th>46870</th>\n",
       "      <td>BRA</td>\n",
       "      <td>South America</td>\n",
       "      <td>Brazil</td>\n",
       "      <td>2022-03-31</td>\n",
       "      <td>29802257.0</td>\n",
       "      <td>0.0</td>\n",
       "      <td>32735.000</td>\n",
       "      <td>658566.0</td>\n",
       "      <td>0.0</td>\n",
       "      <td>252.571</td>\n",
       "      <td>...</td>\n",
       "      <td>17.9</td>\n",
       "      <td>NaN</td>\n",
       "      <td>2.200</td>\n",
       "      <td>75.88</td>\n",
       "      <td>0.765</td>\n",
       "      <td>215313504.0</td>\n",
       "      <td>759777.94</td>\n",
       "      <td>24.66</td>\n",
       "      <td>6.77</td>\n",
       "      <td>3528.7056</td>\n",
       "    </tr>\n",
       "    <tr>\n",
       "      <th>218850</th>\n",
       "      <td>FSM</td>\n",
       "      <td>Oceania</td>\n",
       "      <td>Micronesia (country)</td>\n",
       "      <td>2020-07-20</td>\n",
       "      <td>NaN</td>\n",
       "      <td>0.0</td>\n",
       "      <td>0.000</td>\n",
       "      <td>NaN</td>\n",
       "      <td>0.0</td>\n",
       "      <td>0.000</td>\n",
       "      <td>...</td>\n",
       "      <td>NaN</td>\n",
       "      <td>NaN</td>\n",
       "      <td>NaN</td>\n",
       "      <td>67.88</td>\n",
       "      <td>0.620</td>\n",
       "      <td>114178.0</td>\n",
       "      <td>NaN</td>\n",
       "      <td>NaN</td>\n",
       "      <td>NaN</td>\n",
       "      <td>NaN</td>\n",
       "    </tr>\n",
       "    <tr>\n",
       "      <th>198997</th>\n",
       "      <td>LUX</td>\n",
       "      <td>Europe</td>\n",
       "      <td>Luxembourg</td>\n",
       "      <td>2023-01-11</td>\n",
       "      <td>367293.0</td>\n",
       "      <td>0.0</td>\n",
       "      <td>150.429</td>\n",
       "      <td>968.0</td>\n",
       "      <td>0.0</td>\n",
       "      <td>1.000</td>\n",
       "      <td>...</td>\n",
       "      <td>26.0</td>\n",
       "      <td>NaN</td>\n",
       "      <td>4.510</td>\n",
       "      <td>82.25</td>\n",
       "      <td>0.916</td>\n",
       "      <td>647601.0</td>\n",
       "      <td>NaN</td>\n",
       "      <td>NaN</td>\n",
       "      <td>NaN</td>\n",
       "      <td>NaN</td>\n",
       "    </tr>\n",
       "  </tbody>\n",
       "</table>\n",
       "<p>10 rows × 67 columns</p>\n",
       "</div>"
      ],
      "text/plain": [
       "        iso_code      continent                   location        date  \\\n",
       "5658         DZA         Africa                    Algeria  2022-11-26   \n",
       "178650  OWID_KOS         Europe                     Kosovo  2021-12-29   \n",
       "307076       SRB         Europe                     Serbia  2021-10-20   \n",
       "25856        BHS  North America                    Bahamas  2023-07-21   \n",
       "79710        HRV         Europe                    Croatia  2023-11-22   \n",
       "206598       MLI         Africa                       Mali  2020-08-15   \n",
       "313891       SXM  North America  Sint Maarten (Dutch part)  2023-08-30   \n",
       "46870        BRA  South America                     Brazil  2022-03-31   \n",
       "218850       FSM        Oceania       Micronesia (country)  2020-07-20   \n",
       "198997       LUX         Europe                 Luxembourg  2023-01-11   \n",
       "\n",
       "        total_cases  new_cases  new_cases_smoothed  total_deaths  new_deaths  \\\n",
       "5658       270952.0        0.0              10.143        6881.0         0.0   \n",
       "178650     161284.0        0.0               9.857        2979.0         0.0   \n",
       "307076    1043758.0        0.0            6199.000        9052.0         0.0   \n",
       "25856       38084.0        0.0               0.000         844.0         0.0   \n",
       "79710     1282425.0        0.0             362.143       18470.0         0.0   \n",
       "206598       2450.0        0.0               4.286         125.0         0.0   \n",
       "313891      11051.0        0.0               0.000          92.0         0.0   \n",
       "46870    29802257.0        0.0           32735.000      658566.0         0.0   \n",
       "218850          NaN        0.0               0.000           NaN         0.0   \n",
       "198997     367293.0        0.0             150.429         968.0         0.0   \n",
       "\n",
       "        new_deaths_smoothed  ...  male_smokers  handwashing_facilities  \\\n",
       "5658                  0.000  ...          30.4                  83.741   \n",
       "178650                0.000  ...           NaN                     NaN   \n",
       "307076               52.714  ...          40.2                  97.719   \n",
       "25856                 0.000  ...          20.4                     NaN   \n",
       "79710                 3.429  ...          39.9                     NaN   \n",
       "206598                0.143  ...          23.0                  52.232   \n",
       "313891                0.000  ...           NaN                     NaN   \n",
       "46870               252.571  ...          17.9                     NaN   \n",
       "218850                0.000  ...           NaN                     NaN   \n",
       "198997                1.000  ...          26.0                     NaN   \n",
       "\n",
       "        hospital_beds_per_thousand  life_expectancy  human_development_index  \\\n",
       "5658                         1.900            76.88                    0.748   \n",
       "178650                         NaN              NaN                      NaN   \n",
       "307076                       5.609            76.00                    0.806   \n",
       "25856                        2.900            73.92                    0.814   \n",
       "79710                        5.540            78.49                    0.851   \n",
       "206598                       0.100            59.31                    0.434   \n",
       "313891                         NaN            78.95                      NaN   \n",
       "46870                        2.200            75.88                    0.765   \n",
       "218850                         NaN            67.88                    0.620   \n",
       "198997                       4.510            82.25                    0.916   \n",
       "\n",
       "         population  excess_mortality_cumulative_absolute  \\\n",
       "5658     44903228.0                                   NaN   \n",
       "178650    1782115.0                                   NaN   \n",
       "307076    6871547.0                                   NaN   \n",
       "25856      409989.0                                   NaN   \n",
       "79710     4030361.0                                   NaN   \n",
       "206598   22593598.0                                   NaN   \n",
       "313891      44192.0                                   NaN   \n",
       "46870   215313504.0                             759777.94   \n",
       "218850     114178.0                                   NaN   \n",
       "198997     647601.0                                   NaN   \n",
       "\n",
       "        excess_mortality_cumulative  excess_mortality  \\\n",
       "5658                            NaN               NaN   \n",
       "178650                          NaN               NaN   \n",
       "307076                          NaN               NaN   \n",
       "25856                           NaN               NaN   \n",
       "79710                           NaN               NaN   \n",
       "206598                          NaN               NaN   \n",
       "313891                          NaN               NaN   \n",
       "46870                         24.66              6.77   \n",
       "218850                          NaN               NaN   \n",
       "198997                          NaN               NaN   \n",
       "\n",
       "        excess_mortality_cumulative_per_million  \n",
       "5658                                        NaN  \n",
       "178650                                      NaN  \n",
       "307076                                      NaN  \n",
       "25856                                       NaN  \n",
       "79710                                       NaN  \n",
       "206598                                      NaN  \n",
       "313891                                      NaN  \n",
       "46870                                 3528.7056  \n",
       "218850                                      NaN  \n",
       "198997                                      NaN  \n",
       "\n",
       "[10 rows x 67 columns]"
      ]
     },
     "execution_count": 277,
     "metadata": {},
     "output_type": "execute_result"
    }
   ],
   "source": [
    "df.sample(10)"
   ]
  },
  {
   "cell_type": "code",
   "execution_count": 278,
   "id": "848d624d-a61f-44c3-8fc0-e01fe59bd724",
   "metadata": {},
   "outputs": [],
   "source": [
    "#Calcolo il numero di casi totali per continente, non considerando le locazioni che nel dataset non appartengono a nessun continente"
   ]
  },
  {
   "cell_type": "code",
   "execution_count": 279,
   "id": "5fce33c6-c9d8-4cf2-984c-81ea60014ced",
   "metadata": {},
   "outputs": [],
   "source": [
    "max_tot_cases_continent = df.groupby('continent')['total_cases'].max()"
   ]
  },
  {
   "cell_type": "code",
   "execution_count": 280,
   "id": "4384f265-5595-4037-8a23-7f5a3746ffd0",
   "metadata": {},
   "outputs": [
    {
     "data": {
      "text/plain": [
       "continent\n",
       "Africa             4072636.0\n",
       "Asia              99343195.0\n",
       "Europe            38997490.0\n",
       "North America    103436829.0\n",
       "Oceania           11812024.0\n",
       "South America     37519960.0\n",
       "Name: total_cases, dtype: float64"
      ]
     },
     "execution_count": 280,
     "metadata": {},
     "output_type": "execute_result"
    }
   ],
   "source": [
    "max_tot_cases_continent"
   ]
  },
  {
   "cell_type": "code",
   "execution_count": 281,
   "id": "4123ebf2-06fd-4057-94c4-0039ae78184a",
   "metadata": {},
   "outputs": [
    {
     "data": {
      "text/plain": [
       "295182134.0"
      ]
     },
     "execution_count": 281,
     "metadata": {},
     "output_type": "execute_result"
    }
   ],
   "source": [
    "max_tot_cases_continent.sum()"
   ]
  },
  {
   "cell_type": "code",
   "execution_count": 282,
   "id": "42aade8c-9154-4f07-94b4-db5192fb6dc1",
   "metadata": {},
   "outputs": [],
   "source": [
    "sum_new_cases_continent = df.groupby('continent')['new_cases'].sum()"
   ]
  },
  {
   "cell_type": "code",
   "execution_count": 283,
   "id": "84250e23-9fc6-4c1a-b00b-13a81a3b973c",
   "metadata": {},
   "outputs": [
    {
     "data": {
      "text/plain": [
       "continent\n",
       "Africa            13141282.0\n",
       "Asia             301446461.0\n",
       "Europe           252376812.0\n",
       "North America    124530643.0\n",
       "Oceania           14808170.0\n",
       "South America     68718448.0\n",
       "Name: new_cases, dtype: float64"
      ]
     },
     "execution_count": 283,
     "metadata": {},
     "output_type": "execute_result"
    }
   ],
   "source": [
    "sum_new_cases_continent"
   ]
  },
  {
   "cell_type": "code",
   "execution_count": 284,
   "id": "6583654a-4c87-46c6-a87f-0ae1b81a72ca",
   "metadata": {},
   "outputs": [
    {
     "data": {
      "text/plain": [
       "775021816.0"
      ]
     },
     "execution_count": 284,
     "metadata": {},
     "output_type": "execute_result"
    }
   ],
   "source": [
    "sum_new_cases_continent.sum()"
   ]
  },
  {
   "cell_type": "code",
   "execution_count": 285,
   "id": "403fd777-5083-4811-8246-4820ad688071",
   "metadata": {},
   "outputs": [],
   "source": [
    "#Data l'enorme incongruenza tra il massimo dei valori total cases di ogni continente e la somma dei new cases analizzo più a fondo il dataframe"
   ]
  },
  {
   "cell_type": "code",
   "execution_count": 286,
   "id": "0127667c-ca98-4ac3-97b0-7cc46f9f87de",
   "metadata": {},
   "outputs": [
    {
     "data": {
      "text/plain": [
       "array(['Afghanistan', 'Africa', 'Albania', 'Algeria', 'American Samoa',\n",
       "       'Andorra', 'Angola', 'Anguilla', 'Antigua and Barbuda',\n",
       "       'Argentina', 'Armenia', 'Aruba', 'Asia', 'Australia', 'Austria',\n",
       "       'Azerbaijan', 'Bahamas', 'Bahrain', 'Bangladesh', 'Barbados',\n",
       "       'Belarus', 'Belgium', 'Belize', 'Benin', 'Bermuda', 'Bhutan',\n",
       "       'Bolivia', 'Bonaire Sint Eustatius and Saba',\n",
       "       'Bosnia and Herzegovina', 'Botswana', 'Brazil',\n",
       "       'British Virgin Islands', 'Brunei', 'Bulgaria', 'Burkina Faso',\n",
       "       'Burundi', 'Cambodia', 'Cameroon', 'Canada', 'Cape Verde',\n",
       "       'Cayman Islands', 'Central African Republic', 'Chad', 'Chile',\n",
       "       'China', 'Colombia', 'Comoros', 'Congo', 'Cook Islands',\n",
       "       'Costa Rica', \"Cote d'Ivoire\", 'Croatia', 'Cuba', 'Curacao',\n",
       "       'Cyprus', 'Czechia', 'Democratic Republic of Congo', 'Denmark',\n",
       "       'Djibouti', 'Dominica', 'Dominican Republic', 'Ecuador', 'Egypt',\n",
       "       'El Salvador', 'England', 'Equatorial Guinea', 'Eritrea',\n",
       "       'Estonia', 'Eswatini', 'Ethiopia', 'Europe', 'European Union',\n",
       "       'Faeroe Islands', 'Falkland Islands', 'Fiji', 'Finland', 'France',\n",
       "       'French Guiana', 'French Polynesia', 'Gabon', 'Gambia', 'Georgia',\n",
       "       'Germany', 'Ghana', 'Gibraltar', 'Greece', 'Greenland', 'Grenada',\n",
       "       'Guadeloupe', 'Guam', 'Guatemala', 'Guernsey', 'Guinea',\n",
       "       'Guinea-Bissau', 'Guyana', 'Haiti', 'High income', 'Honduras',\n",
       "       'Hong Kong', 'Hungary', 'Iceland', 'India', 'Indonesia', 'Iran',\n",
       "       'Iraq', 'Ireland', 'Isle of Man', 'Israel', 'Italy', 'Jamaica',\n",
       "       'Japan', 'Jersey', 'Jordan', 'Kazakhstan', 'Kenya', 'Kiribati',\n",
       "       'Kosovo', 'Kuwait', 'Kyrgyzstan', 'Laos', 'Latvia', 'Lebanon',\n",
       "       'Lesotho', 'Liberia', 'Libya', 'Liechtenstein', 'Lithuania',\n",
       "       'Low income', 'Lower middle income', 'Luxembourg', 'Macao',\n",
       "       'Madagascar', 'Malawi', 'Malaysia', 'Maldives', 'Mali', 'Malta',\n",
       "       'Marshall Islands', 'Martinique', 'Mauritania', 'Mauritius',\n",
       "       'Mayotte', 'Mexico', 'Micronesia (country)', 'Moldova', 'Monaco',\n",
       "       'Mongolia', 'Montenegro', 'Montserrat', 'Morocco', 'Mozambique',\n",
       "       'Myanmar', 'Namibia', 'Nauru', 'Nepal', 'Netherlands',\n",
       "       'New Caledonia', 'New Zealand', 'Nicaragua', 'Niger', 'Nigeria',\n",
       "       'Niue', 'North America', 'North Korea', 'North Macedonia',\n",
       "       'Northern Cyprus', 'Northern Ireland', 'Northern Mariana Islands',\n",
       "       'Norway', 'Oceania', 'Oman', 'Pakistan', 'Palau', 'Palestine',\n",
       "       'Panama', 'Papua New Guinea', 'Paraguay', 'Peru', 'Philippines',\n",
       "       'Pitcairn', 'Poland', 'Portugal', 'Puerto Rico', 'Qatar',\n",
       "       'Reunion', 'Romania', 'Russia', 'Rwanda', 'Saint Barthelemy',\n",
       "       'Saint Helena', 'Saint Kitts and Nevis', 'Saint Lucia',\n",
       "       'Saint Martin (French part)', 'Saint Pierre and Miquelon',\n",
       "       'Saint Vincent and the Grenadines', 'Samoa', 'San Marino',\n",
       "       'Sao Tome and Principe', 'Saudi Arabia', 'Scotland', 'Senegal',\n",
       "       'Serbia', 'Seychelles', 'Sierra Leone', 'Singapore',\n",
       "       'Sint Maarten (Dutch part)', 'Slovakia', 'Slovenia',\n",
       "       'Solomon Islands', 'Somalia', 'South Africa', 'South America',\n",
       "       'South Korea', 'South Sudan', 'Spain', 'Sri Lanka', 'Sudan',\n",
       "       'Suriname', 'Sweden', 'Switzerland', 'Syria', 'Taiwan',\n",
       "       'Tajikistan', 'Tanzania', 'Thailand', 'Timor', 'Togo', 'Tokelau',\n",
       "       'Tonga', 'Trinidad and Tobago', 'Tunisia', 'Turkey',\n",
       "       'Turkmenistan', 'Turks and Caicos Islands', 'Tuvalu', 'Uganda',\n",
       "       'Ukraine', 'United Arab Emirates', 'United Kingdom',\n",
       "       'United States', 'United States Virgin Islands',\n",
       "       'Upper middle income', 'Uruguay', 'Uzbekistan', 'Vanuatu',\n",
       "       'Vatican', 'Venezuela', 'Vietnam', 'Wales', 'Wallis and Futuna',\n",
       "       'Western Sahara', 'World', 'Yemen', 'Zambia', 'Zimbabwe'],\n",
       "      dtype=object)"
      ]
     },
     "execution_count": 286,
     "metadata": {},
     "output_type": "execute_result"
    }
   ],
   "source": [
    "df['location'].unique()"
   ]
  },
  {
   "cell_type": "code",
   "execution_count": 287,
   "id": "37dc1f5c-2e43-41e6-9bfd-135553645700",
   "metadata": {},
   "outputs": [],
   "source": [
    "#Noto che ci sono nella colonna location valori sballati: oltre agli stati troviamo infatti righe riguardanti i continenti, il mondo e altre.\n",
    "#Controllo quindi se le righe che hanno il nome del continente nella location abbiano o meno il valore assegnato nella colonna continent"
   ]
  },
  {
   "cell_type": "code",
   "execution_count": 288,
   "id": "23c50506-9078-4773-b758-178b67b4b4dc",
   "metadata": {},
   "outputs": [
    {
     "data": {
      "text/html": [
       "<div>\n",
       "<style scoped>\n",
       "    .dataframe tbody tr th:only-of-type {\n",
       "        vertical-align: middle;\n",
       "    }\n",
       "\n",
       "    .dataframe tbody tr th {\n",
       "        vertical-align: top;\n",
       "    }\n",
       "\n",
       "    .dataframe thead th {\n",
       "        text-align: right;\n",
       "    }\n",
       "</style>\n",
       "<table border=\"1\" class=\"dataframe\">\n",
       "  <thead>\n",
       "    <tr style=\"text-align: right;\">\n",
       "      <th></th>\n",
       "      <th>iso_code</th>\n",
       "      <th>continent</th>\n",
       "      <th>location</th>\n",
       "      <th>date</th>\n",
       "      <th>total_cases</th>\n",
       "      <th>new_cases</th>\n",
       "      <th>new_cases_smoothed</th>\n",
       "      <th>total_deaths</th>\n",
       "      <th>new_deaths</th>\n",
       "      <th>new_deaths_smoothed</th>\n",
       "      <th>...</th>\n",
       "      <th>male_smokers</th>\n",
       "      <th>handwashing_facilities</th>\n",
       "      <th>hospital_beds_per_thousand</th>\n",
       "      <th>life_expectancy</th>\n",
       "      <th>human_development_index</th>\n",
       "      <th>population</th>\n",
       "      <th>excess_mortality_cumulative_absolute</th>\n",
       "      <th>excess_mortality_cumulative</th>\n",
       "      <th>excess_mortality</th>\n",
       "      <th>excess_mortality_cumulative_per_million</th>\n",
       "    </tr>\n",
       "  </thead>\n",
       "  <tbody>\n",
       "  </tbody>\n",
       "</table>\n",
       "<p>0 rows × 67 columns</p>\n",
       "</div>"
      ],
      "text/plain": [
       "Empty DataFrame\n",
       "Columns: [iso_code, continent, location, date, total_cases, new_cases, new_cases_smoothed, total_deaths, new_deaths, new_deaths_smoothed, total_cases_per_million, new_cases_per_million, new_cases_smoothed_per_million, total_deaths_per_million, new_deaths_per_million, new_deaths_smoothed_per_million, reproduction_rate, icu_patients, icu_patients_per_million, hosp_patients, hosp_patients_per_million, weekly_icu_admissions, weekly_icu_admissions_per_million, weekly_hosp_admissions, weekly_hosp_admissions_per_million, total_tests, new_tests, total_tests_per_thousand, new_tests_per_thousand, new_tests_smoothed, new_tests_smoothed_per_thousand, positive_rate, tests_per_case, tests_units, total_vaccinations, people_vaccinated, people_fully_vaccinated, total_boosters, new_vaccinations, new_vaccinations_smoothed, total_vaccinations_per_hundred, people_vaccinated_per_hundred, people_fully_vaccinated_per_hundred, total_boosters_per_hundred, new_vaccinations_smoothed_per_million, new_people_vaccinated_smoothed, new_people_vaccinated_smoothed_per_hundred, stringency_index, population_density, median_age, aged_65_older, aged_70_older, gdp_per_capita, extreme_poverty, cardiovasc_death_rate, diabetes_prevalence, female_smokers, male_smokers, handwashing_facilities, hospital_beds_per_thousand, life_expectancy, human_development_index, population, excess_mortality_cumulative_absolute, excess_mortality_cumulative, excess_mortality, excess_mortality_cumulative_per_million]\n",
       "Index: []\n",
       "\n",
       "[0 rows x 67 columns]"
      ]
     },
     "execution_count": 288,
     "metadata": {},
     "output_type": "execute_result"
    }
   ],
   "source": [
    "df[df['location'] == df['continent']]"
   ]
  },
  {
   "cell_type": "code",
   "execution_count": 289,
   "id": "465afaaf-2248-4522-b70f-f845918dd406",
   "metadata": {},
   "outputs": [],
   "source": [
    "#Non essendoci righe che presentano il valore del continente in entrambe le colonne, posso rifare l'analisi direttamente sulla colonna location,\n",
    "#avendo assunto che questa sia più completa rispetto alla colonna continent.\n",
    "#Creo quindi una lista con i valori unici dei continenti, quindi un dizionario con chiave i continenti, e valore un altro dizionario avente sia\n",
    "#il massimo dei total cases che la somma dei new cases."
   ]
  },
  {
   "cell_type": "code",
   "execution_count": 290,
   "id": "57ca6eeb-417f-4ee6-9103-01982f71d84e",
   "metadata": {},
   "outputs": [],
   "source": [
    "list_continent = df.continent.dropna().unique()\n",
    "list_continent.sort()"
   ]
  },
  {
   "cell_type": "code",
   "execution_count": 291,
   "id": "0d18c2f4-95a0-4a0d-83f9-1aae23160b47",
   "metadata": {},
   "outputs": [
    {
     "name": "stdout",
     "output_type": "stream",
     "text": [
      "Continent: Africa, Max: 13139831.0, Sum: 13141282.0\n",
      "Continent: Asia, Max: 301381380.0, Sum: 301446461.0\n",
      "Continent: Europe, Max: 252376812.0, Sum: 252376812.0\n",
      "Continent: North America, Max: 124525104.0, Sum: 124525136.0\n",
      "Continent: Oceania, Max: 14808141.0, Sum: 14808170.0\n",
      "Continent: South America, Max: 68716854.0, Sum: 68718448.0\n"
     ]
    }
   ],
   "source": [
    "dict_continent = {}\n",
    "for continent in list_continent:\n",
    "    max_continent = df[df['location'] == continent]['total_cases'].max()\n",
    "    sum_continent = df[df['location'] == continent]['new_cases'].sum()\n",
    "    print(f'Continent: {continent}, Max: {max_continent}, Sum: {sum_continent}')\n",
    "    dict_continent[continent] = {'Max': max_continent, 'Sum': sum_continent}"
   ]
  },
  {
   "cell_type": "code",
   "execution_count": 292,
   "id": "902d293f-caa0-4bb3-ab8b-a66b22352f21",
   "metadata": {},
   "outputs": [],
   "source": [
    "#I dati sembrano adesso congruenti. A cambiare sono stati i massimi dei total cases, mentre la somma dei new cases è rimasta identica.\n",
    "#In ultimo calcolo la somma dei valori max e sum dei vari continenti, confrontali successivamentecon il valore massimo di total cases e \n",
    "#la somma dei new cases nel df iniziale."
   ]
  },
  {
   "cell_type": "code",
   "execution_count": 293,
   "id": "f527e7c9-0b07-45eb-84ec-7b0ea4b0a05e",
   "metadata": {},
   "outputs": [
    {
     "name": "stdout",
     "output_type": "stream",
     "text": [
      "Max: 774948122.0, Sum: 775016309.0\n"
     ]
    }
   ],
   "source": [
    "max_world_cases = 0\n",
    "sum_world_cases = 0\n",
    "for key in dict_continent:\n",
    "    max_world_cases += dict_continent[key]['Max']\n",
    "    sum_world_cases += dict_continent[key]['Sum']\n",
    "print(f'Max: {max_world_cases}, Sum: {sum_world_cases}')"
   ]
  },
  {
   "cell_type": "code",
   "execution_count": 294,
   "id": "28e3b9b0-d711-4d2d-813d-236fb0d98573",
   "metadata": {},
   "outputs": [],
   "source": [
    "world_max_total_cases = df.groupby('location')['total_cases'].max().max()"
   ]
  },
  {
   "cell_type": "code",
   "execution_count": 295,
   "id": "257f8ac4-7b14-41e4-a033-46ebf0220405",
   "metadata": {},
   "outputs": [
    {
     "data": {
      "text/plain": [
       "774954379.0"
      ]
     },
     "execution_count": 295,
     "metadata": {},
     "output_type": "execute_result"
    }
   ],
   "source": [
    "world_max_total_cases"
   ]
  },
  {
   "cell_type": "code",
   "execution_count": 296,
   "id": "754a49ad-8b46-4059-a1b9-9df260158b47",
   "metadata": {},
   "outputs": [],
   "source": [
    "world_sum_new_cases = df.groupby('location')['new_cases'].sum().sum()"
   ]
  },
  {
   "cell_type": "code",
   "execution_count": 297,
   "id": "fc95a65d-7ca8-423f-bd7c-5edc5c1bf98f",
   "metadata": {},
   "outputs": [
    {
     "data": {
      "text/plain": [
       "3284465605.0"
      ]
     },
     "execution_count": 297,
     "metadata": {},
     "output_type": "execute_result"
    }
   ],
   "source": [
    "world_sum_new_cases"
   ]
  },
  {
   "cell_type": "code",
   "execution_count": 298,
   "id": "c848750f-e10b-4d26-94d9-0bf99d97a3f0",
   "metadata": {},
   "outputs": [],
   "source": [
    "#La somma dei nuovi casi è evidentemente drogata dalla presenza del valore world nella colonna location, cosa che non influenza invece il max\n",
    "#dei total cases, anzi idealmente questo dovrebbe corrispondere proprio al valore massimo delle righe world!\n",
    "#Concludo questa sudata analisi prendendo quindi in considerazione i massimi dei total cases."
   ]
  },
  {
   "cell_type": "code",
   "execution_count": 299,
   "id": "1fbde145-9c91-47b2-875b-a1c0eb2d5821",
   "metadata": {},
   "outputs": [
    {
     "name": "stdout",
     "output_type": "stream",
     "text": [
      "Il numero totale di casi in Africa è stato: 13,139,831\n",
      "Il numero totale di casi in Asia è stato: 301,381,380\n",
      "Il numero totale di casi in Europe è stato: 252,376,812\n",
      "Il numero totale di casi in North America è stato: 124,525,104\n",
      "Il numero totale di casi in Oceania è stato: 14,808,141\n",
      "Il numero totale di casi in South America è stato: 68,716,854\n"
     ]
    }
   ],
   "source": [
    "for key, values in dict_continent.items():\n",
    "    print(f\"Il numero totale di casi in {key} è stato: {int(values['Max']):,}\")"
   ]
  },
  {
   "cell_type": "code",
   "execution_count": 300,
   "id": "ee044f20-7e23-4ed1-8164-5c593b7c2484",
   "metadata": {},
   "outputs": [],
   "source": [
    "#Dati due variabili contenenti nomi di continenti, ne confronto i relativi descrittori statistici"
   ]
  },
  {
   "cell_type": "code",
   "execution_count": 301,
   "id": "dc961097-df85-4e24-bda9-6029a77e032b",
   "metadata": {},
   "outputs": [
    {
     "name": "stdin",
     "output_type": "stream",
     "text": [
      "Inserisci il nome di un continente: Opzioni disponibili: ['Africa' 'Asia' 'Europe' 'North America' 'Oceania' 'South America'] north america\n"
     ]
    }
   ],
   "source": [
    "continent_1 = input(f'Inserisci il nome di un continente: Opzioni disponibili: {list_continent}').title()"
   ]
  },
  {
   "cell_type": "code",
   "execution_count": 302,
   "id": "7667ef9c-1e2d-4fc0-9b4b-8bc791d16398",
   "metadata": {},
   "outputs": [],
   "source": [
    "while continent_1 not in list_continent:\n",
    "    continent_1 = input(f'Il nome non è presente tra quelli disponibili. Scegli tra: {list_continent}').title()"
   ]
  },
  {
   "cell_type": "code",
   "execution_count": 303,
   "id": "8d09edb6-b54f-4e30-8c36-993fd9c645f7",
   "metadata": {},
   "outputs": [
    {
     "name": "stdin",
     "output_type": "stream",
     "text": [
      "Inserisci il nome del continente con cui vuoi confrontare: Opzioni disponibili: ['Africa' 'Asia' 'Europe' 'North America' 'Oceania' 'South America'] wdwvfsb\n"
     ]
    }
   ],
   "source": [
    "continent_2 = input(f'Inserisci il nome del continente con cui vuoi confrontare: Opzioni disponibili: {list_continent}').title()"
   ]
  },
  {
   "cell_type": "code",
   "execution_count": 304,
   "id": "8e02221f-d91f-4687-a392-db0e1fc612a5",
   "metadata": {},
   "outputs": [
    {
     "name": "stdin",
     "output_type": "stream",
     "text": [
      "Il nome non è presente tra quelli disponibili. Scegli tra: ['Africa' 'Asia' 'Europe' 'North America' 'Oceania' 'South America'] oceania\n"
     ]
    }
   ],
   "source": [
    "while continent_2 not in list_continent:\n",
    "    continent_2 = input(f'Il nome non è presente tra quelli disponibili. Scegli tra: {list_continent}').title()"
   ]
  },
  {
   "cell_type": "code",
   "execution_count": 305,
   "id": "234c5f04-9130-4b2d-a4df-7f837932ac7e",
   "metadata": {},
   "outputs": [],
   "source": [
    "max_continent_1 = dict_continent[continent_1]['Max']"
   ]
  },
  {
   "cell_type": "code",
   "execution_count": 306,
   "id": "8f8b70eb-8044-42b0-8596-7a516a0845ad",
   "metadata": {},
   "outputs": [],
   "source": [
    "max_continent_2 = dict_continent[continent_2]['Max']"
   ]
  },
  {
   "cell_type": "code",
   "execution_count": 307,
   "id": "55ffffa9-88e3-4a6b-b7ad-5564ec16309c",
   "metadata": {},
   "outputs": [],
   "source": [
    "perc_continent_1 = max_continent_1 / world_max_total_cases"
   ]
  },
  {
   "cell_type": "code",
   "execution_count": 308,
   "id": "a49a9c83-8270-4494-9be8-126c228dd4d0",
   "metadata": {},
   "outputs": [],
   "source": [
    "perc_continent_2 = max_continent_2 / world_max_total_cases"
   ]
  },
  {
   "cell_type": "code",
   "execution_count": 309,
   "id": "2a3f0000-cf02-46a0-bf00-acc519113cf6",
   "metadata": {},
   "outputs": [],
   "source": [
    "#Calcolo la media sui nuovi casi, non trovando sensato calcolarla sui totali."
   ]
  },
  {
   "cell_type": "code",
   "execution_count": 310,
   "id": "55376f59-d548-4aea-be2a-74832a14f420",
   "metadata": {},
   "outputs": [],
   "source": [
    "mean_continent_1 = df[df['location'] == continent_1]['new_cases'].mean()"
   ]
  },
  {
   "cell_type": "code",
   "execution_count": 311,
   "id": "692c660e-e1cd-4362-a554-5819da88ddf2",
   "metadata": {},
   "outputs": [],
   "source": [
    "mean_continent_2 = df[df['location'] == continent_2]['new_cases'].mean()"
   ]
  },
  {
   "cell_type": "code",
   "execution_count": 312,
   "id": "3605c0a1-2fee-4cce-a9d4-ebc268d8351a",
   "metadata": {},
   "outputs": [],
   "source": [
    "#Cerco anche il massimo di nuovi casi in un giorno, considerando che potrebbe essere quella la richiesta e non il massimo di casi totali."
   ]
  },
  {
   "cell_type": "code",
   "execution_count": 313,
   "id": "2467febc-c960-4090-9599-6240f085f9e1",
   "metadata": {},
   "outputs": [],
   "source": [
    "max_new_continent_1 = df[df['location'] == continent_1]['new_cases'].max()"
   ]
  },
  {
   "cell_type": "code",
   "execution_count": 314,
   "id": "4563d887-1839-4965-8a6e-7f1db1a5deb8",
   "metadata": {},
   "outputs": [],
   "source": [
    "max_new_continent_2 = df[df['location'] == continent_2]['new_cases'].max()"
   ]
  },
  {
   "cell_type": "code",
   "execution_count": 315,
   "id": "f62544dd-991f-4ac3-af0c-8add96df127d",
   "metadata": {},
   "outputs": [
    {
     "name": "stdout",
     "output_type": "stream",
     "text": [
      "Totale casi: North America: 124,525,104, Oceania: 14,808,141\n",
      "Massimo nuovi casi in un giorno: North America: 6,581,541, Oceania: 593,626\n",
      "Media nuovi casi al giorno: North America: 81,176.75, Oceania: 9,653.31\n",
      "Percentuale rispetto ai casi nel mondo: North America: 16.07%, Oceania: 1.91%\n"
     ]
    }
   ],
   "source": [
    "print(f'Totale casi: {continent_1}: {int(max_continent_1):,}, {continent_2}: {int(max_continent_2):,}\\n'\n",
    "f'Massimo nuovi casi in un giorno: {continent_1}: {int(max_new_continent_1):,}, {continent_2}: {int(max_new_continent_2):,}\\n'\n",
    "f'Media nuovi casi al giorno: {continent_1}: {round(mean_continent_1, 2):,}, {continent_2}: {round(mean_continent_2, 2):,}\\n'\n",
    "f'Percentuale rispetto ai casi nel mondo: {continent_1}: {perc_continent_1:.2%}, {continent_2}: {perc_continent_2:.2%}')"
   ]
  },
  {
   "cell_type": "code",
   "execution_count": 316,
   "id": "d333edc3-dd94-448a-a20a-71456c565216",
   "metadata": {},
   "outputs": [],
   "source": [
    "#Seleziono i dati relativi all'Italia nel 2022, trasformando prima la colonna date in formato data"
   ]
  },
  {
   "cell_type": "code",
   "execution_count": 317,
   "id": "c2e748fb-6355-4537-bcba-bbbc276aa4e6",
   "metadata": {},
   "outputs": [],
   "source": [
    "df['date'] = pd.to_datetime(df['date'])"
   ]
  },
  {
   "cell_type": "code",
   "execution_count": 318,
   "id": "90bbd214-b812-45d7-807a-6a899c05fab7",
   "metadata": {},
   "outputs": [],
   "source": [
    "df_italy_22 = df[(df['location'] == 'Italy') & (df['date'].dt.year == 2022)]"
   ]
  },
  {
   "cell_type": "code",
   "execution_count": 319,
   "id": "5e9457f9-0094-4b2e-a7ad-5ebf77a77bc3",
   "metadata": {},
   "outputs": [
    {
     "name": "stderr",
     "output_type": "stream",
     "text": [
      "C:\\Users\\E\\anaconda3\\Lib\\site-packages\\seaborn\\_oldcore.py:1119: FutureWarning: use_inf_as_na option is deprecated and will be removed in a future version. Convert inf values to NaN before operating instead.\n",
      "  with pd.option_context('mode.use_inf_as_na', True):\n",
      "C:\\Users\\E\\anaconda3\\Lib\\site-packages\\seaborn\\_oldcore.py:1119: FutureWarning: use_inf_as_na option is deprecated and will be removed in a future version. Convert inf values to NaN before operating instead.\n",
      "  with pd.option_context('mode.use_inf_as_na', True):\n"
     ]
    },
    {
     "data": {
      "text/plain": [
       "<Axes: xlabel='date', ylabel='total_cases'>"
      ]
     },
     "execution_count": 319,
     "metadata": {},
     "output_type": "execute_result"
    },
    {
     "data": {
      "image/png": "[encoded data removed]",
      "text/plain": [
       "<Figure size 640x480 with 1 Axes>"
      ]
     },
     "metadata": {},
     "output_type": "display_data"
    }
   ],
   "source": [
    "sns.lineplot(x='date', y='total_cases', data=df_italy_22)"
   ]
  },
  {
   "cell_type": "code",
   "execution_count": 320,
   "id": "4a7b4ed8-db67-484a-b3e9-7e5dab25cc73",
   "metadata": {},
   "outputs": [
    {
     "data": {
      "text/plain": [
       "<Axes: xlabel='date', ylabel='new_cases'>"
      ]
     },
     "execution_count": 320,
     "metadata": {},
     "output_type": "execute_result"
    },
    {
     "data": {
      "image/png": "[encoded data removed]",
      "text/plain": [
       "<Figure size 640x480 with 1 Axes>"
      ]
     },
     "metadata": {},
     "output_type": "display_data"
    }
   ],
   "source": [
    "sns.barplot(x='date', y='new_cases', data=df_italy_22)"
   ]
  },
  {
   "cell_type": "code",
   "execution_count": 321,
   "id": "60f4b37c-7b1d-46cd-8d53-5a0d20adf0ea",
   "metadata": {},
   "outputs": [
    {
     "name": "stderr",
     "output_type": "stream",
     "text": [
      "C:\\Users\\E\\anaconda3\\Lib\\site-packages\\seaborn\\_oldcore.py:1119: FutureWarning: use_inf_as_na option is deprecated and will be removed in a future version. Convert inf values to NaN before operating instead.\n",
      "  with pd.option_context('mode.use_inf_as_na', True):\n",
      "C:\\Users\\E\\anaconda3\\Lib\\site-packages\\seaborn\\_oldcore.py:1119: FutureWarning: use_inf_as_na option is deprecated and will be removed in a future version. Convert inf values to NaN before operating instead.\n",
      "  with pd.option_context('mode.use_inf_as_na', True):\n"
     ]
    },
    {
     "data": {
      "text/plain": [
       "<Axes: xlabel='date', ylabel='new_cases'>"
      ]
     },
     "execution_count": 321,
     "metadata": {},
     "output_type": "execute_result"
    },
    {
     "data": {
      "image/png": "[encoded data removed]",
      "text/plain": [
       "<Figure size 640x480 with 1 Axes>"
      ]
     },
     "metadata": {},
     "output_type": "display_data"
    }
   ],
   "source": [
    "sns.lineplot(x= 'date', y= df_italy_22.new_cases.cumsum(), data= df_italy_22)"
   ]
  },
  {
   "cell_type": "code",
   "execution_count": 322,
   "id": "fc20f530-c024-491a-acf8-6ecb952db1d0",
   "metadata": {},
   "outputs": [],
   "source": [
    "#I grafici dell'andamento dei casi totali e della somma cumulativa dei nuovi casi sono ovviamente identici, ma traslati, in quanto i casi totali\n",
    "#non partono da zero ma dalla somma dei nuovi casi da inizio pandemia al 31-12-2021."
   ]
  },
  {
   "cell_type": "code",
   "execution_count": 411,
   "id": "5f15d98f-858c-43e9-af96-cf7e72ba69d5",
   "metadata": {},
   "outputs": [],
   "source": [
    "#Creo adesso un df per confrontare le nazioni di Italia, Germania e Francia"
   ]
  },
  {
   "cell_type": "code",
   "execution_count": 384,
   "id": "887caed7-9b26-4f73-9ec2-31cd4acb06e5",
   "metadata": {},
   "outputs": [],
   "source": [
    "df_italy_germany_france = df[(df.location == 'Italy') | (df.location == 'Germany') | (df.location == 'France')]"
   ]
  },
  {
   "cell_type": "code",
   "execution_count": 386,
   "id": "025611bc-fe3c-4bb6-baaa-79a9e30afe02",
   "metadata": {},
   "outputs": [],
   "source": [
    "date_range = df_italy_germany_france[(df_italy_germany_france.date >= '2022-05-01') & (df_italy_germany_france.date <= '2023-04-30')]"
   ]
  },
  {
   "cell_type": "code",
   "execution_count": 398,
   "id": "0e0a99e7-618d-497e-bd5e-ce5fe9d5e54d",
   "metadata": {},
   "outputs": [
    {
     "data": {
      "text/plain": [
       "<Axes: xlabel='location', ylabel='icu_patients'>"
      ]
     },
     "execution_count": 398,
     "metadata": {},
     "output_type": "execute_result"
    },
    {
     "data": {
      "image/png": "[encoded data removed]",
      "text/plain": [
       "<Figure size 640x480 with 1 Axes>"
      ]
     },
     "metadata": {},
     "output_type": "display_data"
    }
   ],
   "source": [
    "sns.boxplot(x='location', y=date_range.icu_patients, data=date_range)"
   ]
  },
  {
   "cell_type": "code",
   "execution_count": 410,
   "id": "a719884a-882e-405f-ae48-a65425f9feec",
   "metadata": {},
   "outputs": [],
   "source": [
    "#Dal boxplot, oltre a saltare subito all'occhio come la situazione di ricoverati in terapia intensiva fosse decisamente migliore in Italia,\n",
    "#rispetto a quella in Germania e Francia, possiamo notare che non sembrano essere presenti outliers. Inoltre, mentre i quartili in Italia sono\n",
    "#distribuiti quasi omogeneamente, in Germania e Francia spicca la notevole differenza tra l'ultimo quartile e i restanti tre."
   ]
  },
  {
   "cell_type": "code",
   "execution_count": 413,
   "id": "e23868c6-f2f0-4b8d-9a3f-040c9c0794e4",
   "metadata": {},
   "outputs": [],
   "source": [
    "#Creo adesso un df per analizzare i dati del 2023 di Italia, Germania, Francia e Spagna."
   ]
  },
  {
   "cell_type": "code",
   "execution_count": 414,
   "id": "bc46ca6d-7699-4498-b1b4-dd77240b5146",
   "metadata": {},
   "outputs": [],
   "source": [
    "df_ita_ger_fra_spa = df[(df.location == 'Italy') | (df.location == 'Germany') | (df.location == 'France') | (df.location == 'Spain')]"
   ]
  },
  {
   "cell_type": "code",
   "execution_count": 420,
   "id": "662a952e-5465-45df-8a22-5683f33e82ab",
   "metadata": {},
   "outputs": [],
   "source": [
    "df_ita_ger_fra_spa_23 = df_ita_ger_fra_spa[df_ita_ger_fra_spa.date.dt.year == 2023]"
   ]
  },
  {
   "cell_type": "code",
   "execution_count": 422,
   "id": "7d81ce7d-1c5d-42a4-ba5f-af9075100d77",
   "metadata": {},
   "outputs": [
    {
     "data": {
      "text/html": [
       "<div>\n",
       "<style scoped>\n",
       "    .dataframe tbody tr th:only-of-type {\n",
       "        vertical-align: middle;\n",
       "    }\n",
       "\n",
       "    .dataframe tbody tr th {\n",
       "        vertical-align: top;\n",
       "    }\n",
       "\n",
       "    .dataframe thead th {\n",
       "        text-align: right;\n",
       "    }\n",
       "</style>\n",
       "<table border=\"1\" class=\"dataframe\">\n",
       "  <thead>\n",
       "    <tr style=\"text-align: right;\">\n",
       "      <th></th>\n",
       "      <th>iso_code</th>\n",
       "      <th>continent</th>\n",
       "      <th>location</th>\n",
       "      <th>date</th>\n",
       "      <th>total_cases</th>\n",
       "      <th>new_cases</th>\n",
       "      <th>new_cases_smoothed</th>\n",
       "      <th>total_deaths</th>\n",
       "      <th>new_deaths</th>\n",
       "      <th>new_deaths_smoothed</th>\n",
       "      <th>...</th>\n",
       "      <th>male_smokers</th>\n",
       "      <th>handwashing_facilities</th>\n",
       "      <th>hospital_beds_per_thousand</th>\n",
       "      <th>life_expectancy</th>\n",
       "      <th>human_development_index</th>\n",
       "      <th>population</th>\n",
       "      <th>excess_mortality_cumulative_absolute</th>\n",
       "      <th>excess_mortality_cumulative</th>\n",
       "      <th>excess_mortality</th>\n",
       "      <th>excess_mortality_cumulative_per_million</th>\n",
       "    </tr>\n",
       "  </thead>\n",
       "  <tbody>\n",
       "    <tr>\n",
       "      <th>117628</th>\n",
       "      <td>FRA</td>\n",
       "      <td>Europe</td>\n",
       "      <td>France</td>\n",
       "      <td>2023-01-01</td>\n",
       "      <td>38141254.0</td>\n",
       "      <td>151707.0</td>\n",
       "      <td>21672.429</td>\n",
       "      <td>162475.0</td>\n",
       "      <td>808.0</td>\n",
       "      <td>115.429</td>\n",
       "      <td>...</td>\n",
       "      <td>35.6</td>\n",
       "      <td>NaN</td>\n",
       "      <td>5.98</td>\n",
       "      <td>82.66</td>\n",
       "      <td>0.901</td>\n",
       "      <td>67813000.0</td>\n",
       "      <td>122180.83</td>\n",
       "      <td>6.64</td>\n",
       "      <td>25.88</td>\n",
       "      <td>1886.7708</td>\n",
       "    </tr>\n",
       "    <tr>\n",
       "      <th>117629</th>\n",
       "      <td>FRA</td>\n",
       "      <td>Europe</td>\n",
       "      <td>France</td>\n",
       "      <td>2023-01-02</td>\n",
       "      <td>38141254.0</td>\n",
       "      <td>0.0</td>\n",
       "      <td>21672.429</td>\n",
       "      <td>162475.0</td>\n",
       "      <td>0.0</td>\n",
       "      <td>115.429</td>\n",
       "      <td>...</td>\n",
       "      <td>35.6</td>\n",
       "      <td>NaN</td>\n",
       "      <td>5.98</td>\n",
       "      <td>82.66</td>\n",
       "      <td>0.901</td>\n",
       "      <td>67813000.0</td>\n",
       "      <td>NaN</td>\n",
       "      <td>NaN</td>\n",
       "      <td>NaN</td>\n",
       "      <td>NaN</td>\n",
       "    </tr>\n",
       "    <tr>\n",
       "      <th>117630</th>\n",
       "      <td>FRA</td>\n",
       "      <td>Europe</td>\n",
       "      <td>France</td>\n",
       "      <td>2023-01-03</td>\n",
       "      <td>38141254.0</td>\n",
       "      <td>0.0</td>\n",
       "      <td>21672.429</td>\n",
       "      <td>162475.0</td>\n",
       "      <td>0.0</td>\n",
       "      <td>115.429</td>\n",
       "      <td>...</td>\n",
       "      <td>35.6</td>\n",
       "      <td>NaN</td>\n",
       "      <td>5.98</td>\n",
       "      <td>82.66</td>\n",
       "      <td>0.901</td>\n",
       "      <td>67813000.0</td>\n",
       "      <td>NaN</td>\n",
       "      <td>NaN</td>\n",
       "      <td>NaN</td>\n",
       "      <td>NaN</td>\n",
       "    </tr>\n",
       "    <tr>\n",
       "      <th>117631</th>\n",
       "      <td>FRA</td>\n",
       "      <td>Europe</td>\n",
       "      <td>France</td>\n",
       "      <td>2023-01-04</td>\n",
       "      <td>38141254.0</td>\n",
       "      <td>0.0</td>\n",
       "      <td>21672.429</td>\n",
       "      <td>162475.0</td>\n",
       "      <td>0.0</td>\n",
       "      <td>115.429</td>\n",
       "      <td>...</td>\n",
       "      <td>35.6</td>\n",
       "      <td>NaN</td>\n",
       "      <td>5.98</td>\n",
       "      <td>82.66</td>\n",
       "      <td>0.901</td>\n",
       "      <td>67813000.0</td>\n",
       "      <td>NaN</td>\n",
       "      <td>NaN</td>\n",
       "      <td>NaN</td>\n",
       "      <td>NaN</td>\n",
       "    </tr>\n",
       "    <tr>\n",
       "      <th>117632</th>\n",
       "      <td>FRA</td>\n",
       "      <td>Europe</td>\n",
       "      <td>France</td>\n",
       "      <td>2023-01-05</td>\n",
       "      <td>38141254.0</td>\n",
       "      <td>0.0</td>\n",
       "      <td>21672.429</td>\n",
       "      <td>162475.0</td>\n",
       "      <td>0.0</td>\n",
       "      <td>115.429</td>\n",
       "      <td>...</td>\n",
       "      <td>35.6</td>\n",
       "      <td>NaN</td>\n",
       "      <td>5.98</td>\n",
       "      <td>82.66</td>\n",
       "      <td>0.901</td>\n",
       "      <td>67813000.0</td>\n",
       "      <td>NaN</td>\n",
       "      <td>NaN</td>\n",
       "      <td>NaN</td>\n",
       "      <td>NaN</td>\n",
       "    </tr>\n",
       "    <tr>\n",
       "      <th>...</th>\n",
       "      <td>...</td>\n",
       "      <td>...</td>\n",
       "      <td>...</td>\n",
       "      <td>...</td>\n",
       "      <td>...</td>\n",
       "      <td>...</td>\n",
       "      <td>...</td>\n",
       "      <td>...</td>\n",
       "      <td>...</td>\n",
       "      <td>...</td>\n",
       "      <td>...</td>\n",
       "      <td>...</td>\n",
       "      <td>...</td>\n",
       "      <td>...</td>\n",
       "      <td>...</td>\n",
       "      <td>...</td>\n",
       "      <td>...</td>\n",
       "      <td>...</td>\n",
       "      <td>...</td>\n",
       "      <td>...</td>\n",
       "      <td>...</td>\n",
       "    </tr>\n",
       "    <tr>\n",
       "      <th>327816</th>\n",
       "      <td>ESP</td>\n",
       "      <td>Europe</td>\n",
       "      <td>Spain</td>\n",
       "      <td>2023-12-27</td>\n",
       "      <td>13980340.0</td>\n",
       "      <td>NaN</td>\n",
       "      <td>NaN</td>\n",
       "      <td>121852.0</td>\n",
       "      <td>NaN</td>\n",
       "      <td>NaN</td>\n",
       "      <td>...</td>\n",
       "      <td>31.4</td>\n",
       "      <td>NaN</td>\n",
       "      <td>2.97</td>\n",
       "      <td>83.56</td>\n",
       "      <td>0.904</td>\n",
       "      <td>47558632.0</td>\n",
       "      <td>NaN</td>\n",
       "      <td>NaN</td>\n",
       "      <td>NaN</td>\n",
       "      <td>NaN</td>\n",
       "    </tr>\n",
       "    <tr>\n",
       "      <th>327817</th>\n",
       "      <td>ESP</td>\n",
       "      <td>Europe</td>\n",
       "      <td>Spain</td>\n",
       "      <td>2023-12-28</td>\n",
       "      <td>13980340.0</td>\n",
       "      <td>NaN</td>\n",
       "      <td>NaN</td>\n",
       "      <td>121852.0</td>\n",
       "      <td>NaN</td>\n",
       "      <td>NaN</td>\n",
       "      <td>...</td>\n",
       "      <td>31.4</td>\n",
       "      <td>NaN</td>\n",
       "      <td>2.97</td>\n",
       "      <td>83.56</td>\n",
       "      <td>0.904</td>\n",
       "      <td>47558632.0</td>\n",
       "      <td>NaN</td>\n",
       "      <td>NaN</td>\n",
       "      <td>NaN</td>\n",
       "      <td>NaN</td>\n",
       "    </tr>\n",
       "    <tr>\n",
       "      <th>327818</th>\n",
       "      <td>ESP</td>\n",
       "      <td>Europe</td>\n",
       "      <td>Spain</td>\n",
       "      <td>2023-12-29</td>\n",
       "      <td>13980340.0</td>\n",
       "      <td>NaN</td>\n",
       "      <td>NaN</td>\n",
       "      <td>121852.0</td>\n",
       "      <td>NaN</td>\n",
       "      <td>NaN</td>\n",
       "      <td>...</td>\n",
       "      <td>31.4</td>\n",
       "      <td>NaN</td>\n",
       "      <td>2.97</td>\n",
       "      <td>83.56</td>\n",
       "      <td>0.904</td>\n",
       "      <td>47558632.0</td>\n",
       "      <td>NaN</td>\n",
       "      <td>NaN</td>\n",
       "      <td>NaN</td>\n",
       "      <td>NaN</td>\n",
       "    </tr>\n",
       "    <tr>\n",
       "      <th>327819</th>\n",
       "      <td>ESP</td>\n",
       "      <td>Europe</td>\n",
       "      <td>Spain</td>\n",
       "      <td>2023-12-30</td>\n",
       "      <td>13980340.0</td>\n",
       "      <td>NaN</td>\n",
       "      <td>NaN</td>\n",
       "      <td>121852.0</td>\n",
       "      <td>NaN</td>\n",
       "      <td>NaN</td>\n",
       "      <td>...</td>\n",
       "      <td>31.4</td>\n",
       "      <td>NaN</td>\n",
       "      <td>2.97</td>\n",
       "      <td>83.56</td>\n",
       "      <td>0.904</td>\n",
       "      <td>47558632.0</td>\n",
       "      <td>NaN</td>\n",
       "      <td>NaN</td>\n",
       "      <td>NaN</td>\n",
       "      <td>NaN</td>\n",
       "    </tr>\n",
       "    <tr>\n",
       "      <th>327820</th>\n",
       "      <td>ESP</td>\n",
       "      <td>Europe</td>\n",
       "      <td>Spain</td>\n",
       "      <td>2023-12-31</td>\n",
       "      <td>13980340.0</td>\n",
       "      <td>NaN</td>\n",
       "      <td>NaN</td>\n",
       "      <td>121852.0</td>\n",
       "      <td>NaN</td>\n",
       "      <td>NaN</td>\n",
       "      <td>...</td>\n",
       "      <td>31.4</td>\n",
       "      <td>NaN</td>\n",
       "      <td>2.97</td>\n",
       "      <td>83.56</td>\n",
       "      <td>0.904</td>\n",
       "      <td>47558632.0</td>\n",
       "      <td>148088.22</td>\n",
       "      <td>8.75</td>\n",
       "      <td>18.45</td>\n",
       "      <td>3116.3590</td>\n",
       "    </tr>\n",
       "  </tbody>\n",
       "</table>\n",
       "<p>1460 rows × 67 columns</p>\n",
       "</div>"
      ],
      "text/plain": [
       "       iso_code continent location       date  total_cases  new_cases  \\\n",
       "117628      FRA    Europe   France 2023-01-01   38141254.0   151707.0   \n",
       "117629      FRA    Europe   France 2023-01-02   38141254.0        0.0   \n",
       "117630      FRA    Europe   France 2023-01-03   38141254.0        0.0   \n",
       "117631      FRA    Europe   France 2023-01-04   38141254.0        0.0   \n",
       "117632      FRA    Europe   France 2023-01-05   38141254.0        0.0   \n",
       "...         ...       ...      ...        ...          ...        ...   \n",
       "327816      ESP    Europe    Spain 2023-12-27   13980340.0        NaN   \n",
       "327817      ESP    Europe    Spain 2023-12-28   13980340.0        NaN   \n",
       "327818      ESP    Europe    Spain 2023-12-29   13980340.0        NaN   \n",
       "327819      ESP    Europe    Spain 2023-12-30   13980340.0        NaN   \n",
       "327820      ESP    Europe    Spain 2023-12-31   13980340.0        NaN   \n",
       "\n",
       "        new_cases_smoothed  total_deaths  new_deaths  new_deaths_smoothed  \\\n",
       "117628           21672.429      162475.0       808.0              115.429   \n",
       "117629           21672.429      162475.0         0.0              115.429   \n",
       "117630           21672.429      162475.0         0.0              115.429   \n",
       "117631           21672.429      162475.0         0.0              115.429   \n",
       "117632           21672.429      162475.0         0.0              115.429   \n",
       "...                    ...           ...         ...                  ...   \n",
       "327816                 NaN      121852.0         NaN                  NaN   \n",
       "327817                 NaN      121852.0         NaN                  NaN   \n",
       "327818                 NaN      121852.0         NaN                  NaN   \n",
       "327819                 NaN      121852.0         NaN                  NaN   \n",
       "327820                 NaN      121852.0         NaN                  NaN   \n",
       "\n",
       "        ...  male_smokers  handwashing_facilities  hospital_beds_per_thousand  \\\n",
       "117628  ...          35.6                     NaN                        5.98   \n",
       "117629  ...          35.6                     NaN                        5.98   \n",
       "117630  ...          35.6                     NaN                        5.98   \n",
       "117631  ...          35.6                     NaN                        5.98   \n",
       "117632  ...          35.6                     NaN                        5.98   \n",
       "...     ...           ...                     ...                         ...   \n",
       "327816  ...          31.4                     NaN                        2.97   \n",
       "327817  ...          31.4                     NaN                        2.97   \n",
       "327818  ...          31.4                     NaN                        2.97   \n",
       "327819  ...          31.4                     NaN                        2.97   \n",
       "327820  ...          31.4                     NaN                        2.97   \n",
       "\n",
       "        life_expectancy  human_development_index  population  \\\n",
       "117628            82.66                    0.901  67813000.0   \n",
       "117629            82.66                    0.901  67813000.0   \n",
       "117630            82.66                    0.901  67813000.0   \n",
       "117631            82.66                    0.901  67813000.0   \n",
       "117632            82.66                    0.901  67813000.0   \n",
       "...                 ...                      ...         ...   \n",
       "327816            83.56                    0.904  47558632.0   \n",
       "327817            83.56                    0.904  47558632.0   \n",
       "327818            83.56                    0.904  47558632.0   \n",
       "327819            83.56                    0.904  47558632.0   \n",
       "327820            83.56                    0.904  47558632.0   \n",
       "\n",
       "        excess_mortality_cumulative_absolute  excess_mortality_cumulative  \\\n",
       "117628                             122180.83                         6.64   \n",
       "117629                                   NaN                          NaN   \n",
       "117630                                   NaN                          NaN   \n",
       "117631                                   NaN                          NaN   \n",
       "117632                                   NaN                          NaN   \n",
       "...                                      ...                          ...   \n",
       "327816                                   NaN                          NaN   \n",
       "327817                                   NaN                          NaN   \n",
       "327818                                   NaN                          NaN   \n",
       "327819                                   NaN                          NaN   \n",
       "327820                             148088.22                         8.75   \n",
       "\n",
       "        excess_mortality  excess_mortality_cumulative_per_million  \n",
       "117628             25.88                                1886.7708  \n",
       "117629               NaN                                      NaN  \n",
       "117630               NaN                                      NaN  \n",
       "117631               NaN                                      NaN  \n",
       "117632               NaN                                      NaN  \n",
       "...                  ...                                      ...  \n",
       "327816               NaN                                      NaN  \n",
       "327817               NaN                                      NaN  \n",
       "327818               NaN                                      NaN  \n",
       "327819               NaN                                      NaN  \n",
       "327820             18.45                                3116.3590  \n",
       "\n",
       "[1460 rows x 67 columns]"
      ]
     },
     "execution_count": 422,
     "metadata": {},
     "output_type": "execute_result"
    }
   ],
   "source": [
    "df_ita_ger_fra_spa_23"
   ]
  },
  {
   "cell_type": "code",
   "execution_count": 427,
   "id": "430bc357-f054-41e9-b6a8-02e5bd8282f2",
   "metadata": {},
   "outputs": [
    {
     "name": "stderr",
     "output_type": "stream",
     "text": [
      "C:\\Users\\E\\anaconda3\\Lib\\site-packages\\seaborn\\_oldcore.py:1119: FutureWarning: use_inf_as_na option is deprecated and will be removed in a future version. Convert inf values to NaN before operating instead.\n",
      "  with pd.option_context('mode.use_inf_as_na', True):\n",
      "C:\\Users\\E\\anaconda3\\Lib\\site-packages\\seaborn\\_oldcore.py:1119: FutureWarning: use_inf_as_na option is deprecated and will be removed in a future version. Convert inf values to NaN before operating instead.\n",
      "  with pd.option_context('mode.use_inf_as_na', True):\n"
     ]
    },
    {
     "data": {
      "text/plain": [
       "<Axes: xlabel='date', ylabel='hosp_patients'>"
      ]
     },
     "execution_count": 427,
     "metadata": {},
     "output_type": "execute_result"
    },
    {
     "data": {
      "image/png": "[encoded data removed]",
      "text/plain": [
       "<Figure size 640x480 with 1 Axes>"
      ]
     },
     "metadata": {},
     "output_type": "display_data"
    }
   ],
   "source": [
    "sns.lineplot(x='date', y='hosp_patients', hue='location', data=df_ita_ger_fra_spa_23)"
   ]
  },
  {
   "cell_type": "code",
   "execution_count": 428,
   "id": "4d5e672b-c571-49a5-b0c3-699c6ffd51f5",
   "metadata": {},
   "outputs": [],
   "source": [
    "#Non sono presenti i dati delle ospedalizzazioni della Germania, inoltre quelli di Francia e Spagna si fermano prima di metò dell'anno.\n",
    "#Per risolvere il problema si potrebbe analizzare qualche dato simile all'interno del dataframe, oppure fare webscraping alla ricerca di dati completi."
   ]
  },
  {
   "cell_type": "code",
   "execution_count": null,
   "id": "5f75a5ed-e92e-4a44-8959-28739edceeee",
   "metadata": {},
   "outputs": [],
   "source": []
  }
 ],
 "metadata": {
  "kernelspec": {
   "display_name": "Python 3 (ipykernel)",
   "language": "python",
   "name": "python3"
  },
  "language_info": {
   "codemirror_mode": {
    "name": "ipython",
    "version": 3
   },
   "file_extension": ".py",
   "mimetype": "text/x-python",
   "name": "python",
   "nbconvert_exporter": "python",
   "pygments_lexer": "ipython3",
   "version": "3.11.7"
  }
 },
 "nbformat": 4,
 "nbformat_minor": 5
}
